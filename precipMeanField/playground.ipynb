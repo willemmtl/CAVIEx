{
 "cells": [
  {
   "cell_type": "code",
   "execution_count": 7,
   "metadata": {},
   "outputs": [],
   "source": [
    "using Distributions, ForwardDiff, LinearAlgebra, Gadfly, Cairo, Fontconfig\n",
    "\n",
    "include(\"../precipFramework/iGMRF.jl\");\n",
    "include(\"../precipFramework/dataGen.jl\");\n",
    "include(\"../precipFramework/utils.jl\");\n",
    "include(\"../precipFramework/plotting.jl\");\n",
    "include(\"CAVI.jl\");"
   ]
  },
  {
   "cell_type": "code",
   "execution_count": 59,
   "metadata": {},
   "outputs": [],
   "source": [
    "# Seed\n",
    "Random.seed!(400);\n",
    "# Dimensions de la grille\n",
    "m₁ = 10;\n",
    "m₂ = 10;\n",
    "# Nb total de cellules\n",
    "m = m₁ * m₂;\n",
    "# Matrice de structure\n",
    "κᵤ = 10.0;\n",
    "F = iGMRF(m₁, m₂, κᵤ);\n",
    "# Grille cible\n",
    "grid_target = generateTargetGrid(F);\n",
    "grid_target[:, :, 1] = grid_target[:, :, 1] .+ 10;\n",
    "# Génération de données\n",
    "nobs = 100;\n",
    "Y = generateData(grid_target, nobs);"
   ]
  },
  {
   "cell_type": "markdown",
   "metadata": {},
   "source": [
    "# Itérations"
   ]
  },
  {
   "cell_type": "code",
   "execution_count": 60,
   "metadata": {},
   "outputs": [
    {
     "name": "stdout",
     "output_type": "stream",
     "text": [
      "Minimization made in 5.260883084 s\n"
     ]
    }
   ],
   "source": [
    "n_epoch = 100;\n",
    "epoch_size = 1;\n",
    "Hθ₀ = [fill(0.0, m)..., 1.0];\n",
    "\n",
    "MCKL, Hθ = runCAVI(n_epoch, epoch_size, Hθ₀, F=F, Y=Y);"
   ]
  },
  {
   "cell_type": "code",
   "execution_count": null,
   "metadata": {},
   "outputs": [],
   "source": [
    "plotConvergenceCriterion(\n",
    "    MCKL,\n",
    "    # \"../plots/mean_field/$(m₁)x$(m₂)/convergence_criterion.png\",\n",
    ")"
   ]
  },
  {
   "cell_type": "code",
   "execution_count": 62,
   "metadata": {},
   "outputs": [],
   "source": [
    "η = Hθ[1:m];\n",
    "bᵤ = Hθ[m + 1];\n",
    "aᵤ = compute_aᵤ(m);\n",
    "s² = compute_s²(aᵤ, bᵤ, length(Y[1]), [diag(F.G.W)...]);"
   ]
  },
  {
   "cell_type": "code",
   "execution_count": 63,
   "metadata": {},
   "outputs": [],
   "source": [
    "include(\"../precipFramework/mcmc.jl\");\n",
    "\n",
    "niter = 10000\n",
    "δ² = 0.2\n",
    "κᵤ₀ = 10\n",
    "μ₀ = zeros(m)\n",
    "\n",
    "θ = gibbs(niter, Y, m₁=m₁, m₂=m₂, δ²=δ², κᵤ₀=κᵤ₀, μ₀=μ₀);\n",
    "\n",
    "warming_size = Int(0.2 * niter);\n",
    "θsampling = θ[warming_size:end, :, :];"
   ]
  },
  {
   "cell_type": "code",
   "execution_count": null,
   "metadata": {},
   "outputs": [],
   "source": [
    "# Pour κᵤ\n",
    "\n",
    "approxDensity(x::Real) = pdf(Gamma(aᵤ, 1/bᵤ), x)\n",
    "a = 0;\n",
    "step = 0.1;\n",
    "b = 100;\n",
    "\n",
    "plotApproxVSMCMC(\n",
    "    approxDensity,\n",
    "    θsampling.value[:, 1, 1],\n",
    "    # \"../plots/mean_field/$(m₁)x$(m₂)/approxvsmcmc_kappa.png\",\n",
    "    a=a,\n",
    "    b=b,\n",
    "    step=step;\n",
    "    xLabel=\"kappa_u\",\n",
    "    yLabel=\"density\",\n",
    ")"
   ]
  },
  {
   "cell_type": "code",
   "execution_count": null,
   "metadata": {},
   "outputs": [],
   "source": [
    "# Pour μ\n",
    "k = 1;\n",
    "\n",
    "approxDensity(x::Real) = pdf(Normal(η[k], sqrt(s²[k])), x);\n",
    "a = 9.5;\n",
    "b = 11.5;\n",
    "step = .001;\n",
    "\n",
    "plotApproxVSMCMC(\n",
    "    approxDensity,\n",
    "    θsampling.value[:, k+1, 1],\n",
    "    # \"../plots/mean_field/$(m₁)x$(m₂)/approxvsmcmc_mu.png\",\n",
    "    a=a,\n",
    "    b=b,\n",
    "    step=step,\n",
    "    xLabel=\"mu\",\n",
    "    yLabel=\"density\",\n",
    ")"
   ]
  },
  {
   "cell_type": "code",
   "execution_count": null,
   "metadata": {},
   "outputs": [],
   "source": []
  }
 ],
 "metadata": {
  "kernelspec": {
   "display_name": "Julia 1.10.5",
   "language": "julia",
   "name": "julia-1.10"
  },
  "language_info": {
   "file_extension": ".jl",
   "mimetype": "application/julia",
   "name": "julia",
   "version": "1.10.5"
  }
 },
 "nbformat": 4,
 "nbformat_minor": 2
}
