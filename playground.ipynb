{
 "cells": [
  {
   "cell_type": "code",
   "execution_count": 1,
   "metadata": {},
   "outputs": [
    {
     "name": "stderr",
     "output_type": "stream",
     "text": [
      "WARNING: replacing module AbstractModel.\n"
     ]
    }
   ],
   "source": [
    "include(\"src/CAVI.jl\");\n",
    "\n",
    "# Instances\n",
    "include(\"src/instances/InstancePMF.jl\");"
   ]
  },
  {
   "cell_type": "code",
   "execution_count": 2,
   "metadata": {},
   "outputs": [],
   "source": [
    "m₁ = 3;\n",
    "m₂ = 3;\n",
    "seed = 400;\n",
    "biasmu = 10.0;\n",
    "realkappa = 10.0;\n",
    "\n",
    "instance = InstancePMF(m₁, m₂, seed=seed, biasmu=biasmu, realkappa=realkappa);"
   ]
  },
  {
   "cell_type": "code",
   "execution_count": 3,
   "metadata": {},
   "outputs": [
    {
     "ename": "MethodError",
     "evalue": "MethodError: no method matching runCAVI(::Int64, ::Int64, ::Vector{Float64}, ::Main.AbstractModel.BaseModel)\n\nClosest candidates are:\n  runCAVI(::Integer, ::Integer, ::DenseVector, !Matched::Main.AbstractModel.BaseModel)\n   @ Main ~/Documents/dd/maitrise/recherche/CAVIEx/src/CAVI.jl:22\n",
     "output_type": "error",
     "traceback": [
      "MethodError: no method matching runCAVI(::Int64, ::Int64, ::Vector{Float64}, ::Main.AbstractModel.BaseModel)\n",
      "\n",
      "Closest candidates are:\n",
      "  runCAVI(::Integer, ::Integer, ::DenseVector, !Matched::Main.AbstractModel.BaseModel)\n",
      "   @ Main ~/Documents/dd/maitrise/recherche/CAVIEx/src/CAVI.jl:22\n",
      "\n",
      "\n",
      "Stacktrace:\n",
      " [1] top-level scope\n",
      "   @ ~/Documents/dd/maitrise/recherche/CAVIEx/jl_notebook_cell_df34fa98e69747e1a8f8a730347b8e2f_W2sZmlsZQ==.jl:3"
     ]
    }
   ],
   "source": [
    "n_epoch = 100;\n",
    "epoch_size = 1;\n",
    "Hθ₀ = AbstractModel.getHθ(instance.model);\n",
    "\n",
    "runCAVI(n_epoch, epoch_size, Hθ₀, instance.model);"
   ]
  },
  {
   "cell_type": "code",
   "execution_count": null,
   "metadata": {},
   "outputs": [],
   "source": []
  }
 ],
 "metadata": {
  "kernelspec": {
   "display_name": "Julia 1.10.5",
   "language": "julia",
   "name": "julia-1.10"
  },
  "language_info": {
   "file_extension": ".jl",
   "mimetype": "application/julia",
   "name": "julia",
   "version": "1.10.5"
  }
 },
 "nbformat": 4,
 "nbformat_minor": 2
}
