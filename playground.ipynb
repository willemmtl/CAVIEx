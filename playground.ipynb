{
 "cells": [
  {
   "cell_type": "code",
   "execution_count": 1,
   "metadata": {},
   "outputs": [],
   "source": [
    "include(\"src/CAVI.jl\");\n",
    "\n",
    "# Instances\n",
    "include(\"src/instances/InstancePMF.jl\");"
   ]
  },
  {
   "cell_type": "code",
   "execution_count": 2,
   "metadata": {},
   "outputs": [],
   "source": [
    "m₁ = 3;\n",
    "m₂ = 3;\n",
    "seed = 400;\n",
    "biasmu = 10.0;\n",
    "realkappa = 10.0;\n",
    "\n",
    "instance = InstancePMF(m₁, m₂, seed=seed, biasmu=biasmu, realkappa=realkappa);"
   ]
  },
  {
   "cell_type": "code",
   "execution_count": 4,
   "metadata": {},
   "outputs": [
    {
     "ename": "MethodError",
     "evalue": "MethodError: Cannot `convert` an object of type Vector{Float64} to an object of type Float64\n\nClosest candidates are:\n  convert(::Type{T}, !Matched::T) where T\n   @ Base Base.jl:84\n  convert(::Type{T}, !Matched::CartesianIndex{1}) where T<:Number\n   @ Base multidimensional.jl:135\n  convert(::Type{T}, !Matched::AbstractChar) where T<:Number\n   @ Base char.jl:185\n  ...\n",
     "output_type": "error",
     "traceback": [
      "MethodError: Cannot `convert` an object of type Vector{Float64} to an object of type Float64\n",
      "\n",
      "Closest candidates are:\n",
      "  convert(::Type{T}, !Matched::T) where T\n",
      "   @ Base Base.jl:84\n",
      "  convert(::Type{T}, !Matched::CartesianIndex{1}) where T<:Number\n",
      "   @ Base multidimensional.jl:135\n",
      "  convert(::Type{T}, !Matched::AbstractChar) where T<:Number\n",
      "   @ Base char.jl:185\n",
      "  ...\n",
      "\n",
      "\n",
      "Stacktrace:\n",
      " [1] convert(::Type{Union{Nothing, Float64}}, x::Vector{Float64})\n",
      "   @ Base ./some.jl:37\n",
      " [2] setindex!(A::Vector{Union{Nothing, Float64}}, x::Vector{Float64}, i1::Int64)\n",
      "   @ Base ./array.jl:1021\n",
      " [3] refineHyperParams!(model::Main.AbstractModel.BaseModel)\n",
      "   @ Main ~/Documents/dd/maitrise/recherche/CAVIEx/src/CAVI.jl:84\n",
      " [4] macro expansion\n",
      "   @ ~/Documents/dd/maitrise/recherche/CAVIEx/src/CAVI.jl:37 [inlined]\n",
      " [5] macro expansion\n",
      "   @ ./timing.jl:395 [inlined]\n",
      " [6] runCAVI(n_epoch::Int64, epoch_size::Int64, Hθ₀::Vector{Float64}, model::Main.AbstractModel.BaseModel)\n",
      "   @ Main ~/Documents/dd/maitrise/recherche/CAVIEx/src/CAVI.jl:33\n",
      " [7] top-level scope\n",
      "   @ ~/Documents/dd/maitrise/recherche/CAVIEx/jl_notebook_cell_df34fa98e69747e1a8f8a730347b8e2f_W2sZmlsZQ==.jl:3"
     ]
    }
   ],
   "source": [
    "n_epoch = 100;\n",
    "epoch_size = 1;\n",
    "Hθ₀ = [zeros(m₁*m₂)..., ones(m₁*m₂)..., 1.0, 1.0];\n",
    "\n",
    "runCAVI(n_epoch, epoch_size, Hθ₀, instance.model);"
   ]
  },
  {
   "cell_type": "code",
   "execution_count": null,
   "metadata": {},
   "outputs": [],
   "source": []
  }
 ],
 "metadata": {
  "kernelspec": {
   "display_name": "Julia 1.10.5",
   "language": "julia",
   "name": "julia-1.10"
  },
  "language_info": {
   "file_extension": ".jl",
   "mimetype": "application/julia",
   "name": "julia",
   "version": "1.10.5"
  }
 },
 "nbformat": 4,
 "nbformat_minor": 2
}
